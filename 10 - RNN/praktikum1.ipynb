{
  "cells": [
    {
      "cell_type": "markdown",
      "metadata": {
        "id": "view-in-github",
        "colab_type": "text"
      },
      "source": [
        "<a href=\"https://colab.research.google.com/github/andidprastyo/ML-2023/blob/main/10%20-%20RNN/praktikum1.ipynb\" target=\"_parent\"><img src=\"https://colab.research.google.com/assets/colab-badge.svg\" alt=\"Open In Colab\"/></a>"
      ]
    },
    {
      "cell_type": "markdown",
      "metadata": {
        "id": "i5LgwfbiEPAN"
      },
      "source": [
        "### Import Libraries"
      ]
    },
    {
      "cell_type": "code",
      "execution_count": 1,
      "metadata": {
        "id": "-yy_qxhrEPAO"
      },
      "outputs": [],
      "source": [
        "import numpy as np\n",
        "import tensorflow_datasets as tfds\n",
        "import tensorflow as tf\n",
        "import matplotlib.pyplot as plt\n",
        "\n",
        "tfds.disable_progress_bar()"
      ]
    },
    {
      "cell_type": "code",
      "execution_count": 2,
      "metadata": {
        "id": "-kY32xcEEPAQ"
      },
      "outputs": [],
      "source": [
        "def plot_graphs(history, metric):\n",
        "\tplt.plot(history.history[metric])\n",
        "\tplt.plot(history.history['val_'+metric], '')\n",
        "\tplt.xlabel(\"Epochs\")\n",
        "\tplt.ylabel(metric)\n",
        "\tplt.legend([metric, 'val_'+metric])"
      ]
    },
    {
      "cell_type": "markdown",
      "metadata": {
        "id": "MSoJm-B8EPAR"
      },
      "source": [
        "### Load Dataset"
      ]
    },
    {
      "cell_type": "code",
      "execution_count": 3,
      "metadata": {
        "id": "7Ffnlj_6EPAR",
        "outputId": "a0523752-af55-4320-ebd4-fe0d3138bc3e",
        "colab": {
          "base_uri": "https://localhost:8080/"
        }
      },
      "outputs": [
        {
          "output_type": "stream",
          "name": "stdout",
          "text": [
            "Downloading and preparing dataset 80.23 MiB (download: 80.23 MiB, generated: Unknown size, total: 80.23 MiB) to /root/tensorflow_datasets/imdb_reviews/plain_text/1.0.0...\n",
            "Dataset imdb_reviews downloaded and prepared to /root/tensorflow_datasets/imdb_reviews/plain_text/1.0.0. Subsequent calls will reuse this data.\n"
          ]
        },
        {
          "output_type": "execute_result",
          "data": {
            "text/plain": [
              "(TensorSpec(shape=(), dtype=tf.string, name=None),\n",
              " TensorSpec(shape=(), dtype=tf.int64, name=None))"
            ]
          },
          "metadata": {},
          "execution_count": 3
        }
      ],
      "source": [
        "dataset, info = tfds.load('imdb_reviews', with_info=True, as_supervised=True)\n",
        "train_dataset, test_dataset = dataset['train'], dataset['test']\n",
        "train_dataset.element_spec"
      ]
    },
    {
      "cell_type": "code",
      "execution_count": 4,
      "metadata": {
        "id": "0NiIzgOaEPAR",
        "outputId": "f8091233-a5a7-4c8d-ed69-793b1a004e9f",
        "colab": {
          "base_uri": "https://localhost:8080/"
        }
      },
      "outputs": [
        {
          "output_type": "stream",
          "name": "stdout",
          "text": [
            "text:  b\"This was an absolutely terrible movie. Don't be lured in by Christopher Walken or Michael Ironside. Both are great actors, but this must simply be their worst role in history. Even their great acting could not redeem this movie's ridiculous storyline. This movie is an early nineties US propaganda piece. The most pathetic scenes were those when the Columbian rebels were making their cases for revolutions. Maria Conchita Alonso appeared phony, and her pseudo-love affair with Walken was nothing but a pathetic emotional plug in a movie that was devoid of any real meaning. I am disappointed that there are movies like this, ruining actor's like Christopher Walken's good name. I could barely sit through it.\"\n",
            "label:  0\n"
          ]
        }
      ],
      "source": [
        "for example, label in train_dataset.take(1):\n",
        "  print('text: ', example.numpy())\n",
        "  print('label: ', label.numpy())"
      ]
    },
    {
      "cell_type": "code",
      "execution_count": 5,
      "metadata": {
        "id": "jL6pYfrwEPAR",
        "outputId": "31adc5d7-3d5b-4b81-ffb6-362b988fce11",
        "colab": {
          "base_uri": "https://localhost:8080/"
        }
      },
      "outputs": [
        {
          "output_type": "stream",
          "name": "stdout",
          "text": [
            "texts:  [b\"This is one of the worst movies I have ever seen. However, the little slave girl, Alice and Jared Harris imitating Christopher Walken is what makes this movie entertaining. Alice's smoking, drinking and uncanny way of showing up when her name is called is strange and interesting. I have to applaud Jared for his Christopher Walken imitation, and Christopher Walken for allowing this to be in the movie.\"\n",
            " b'I had watched this film from Ralph Bakshi (Wizards, Hey Good Lookin\\'), one night ago on www.afrovideo.org, and I didn\\'t see anything racial (I am not stupid), I do admit the character designs are a bit crude and unaccpectable today, but I think it\\'s a satire and a very,very urban retelling of the old Uncle Remus stories that the Black American culture, created right down to the main characters and the blatant nod to \"The Tar Baby\" and \"The Briar Patch.\" These aren\\'t bigoted stories, mind you, but cultural icons created by Black Americans, and me being a white woman read and love those stories. And I also found it an interesting time-capsule view on the black culture in Harlem, New York in the 70\\'s.<br /><br />Well to get to the nitty-gritty of this film: This film is a live-action/animated film, which begins in live-action with a fellow named Sampson (Barry White) and the Preacherman (Charles Gordone) rush to help their friend, Randy (Philip Michael Thomas) escape from prison, but are stopped by a roadblock and wind up in a shootout with the police. While waiting for them, Randy unwillingly listens to fellow escapee Pappy (Scatman Crothers), as he begins to tell Randy the animated story of Brother Rabbit, a young newcomer to the big city who quickly rises from obscurity to rule over all of Harlem; you know, to me Rabbit,Bear and Fox are animal versions of Randy,Sampson and the Preacherman. An abstract juxtaposition of stylized animation and live action footage, the film is a graphic and condemnatory satire of stereotypes prevalent in the 70s \\xc2\\x97 racial, ethnic, and otherwise.<br /><br />So anyway, it is another GOOD Bakshi movie; and should we sweep films like this under the rug? pretend they never exist? hmmm...I think that would be a shame; I think we should watch these films entacted, and learn about what goes on back then, just how far we come since then.'\n",
            " b'Metro-Goldwyn-Mayer is a very lost player in the short cartoon market. This market is essentially dominated by the Looney Tunes and the Merry Melodies shorts, coming from Warner Bros. But MGM is also able of releasing hidden gems, like \"To Spring\", an astonishing story about the most beautiful season of the year.<br /><br />In the environment depicted here, spring isn\\'t caused by natural cycles, but is fabricated. And by who? By little male elves who live below ground. Each spring, when the snow begins to melt, they start working. They begin by felling rainbow rock columns, then reducing them to rubble and using this rubble to turn it into color fluids, which will be moved up to the ground and bearing grass, flowers... In other words, spring! The first half of the cartoon depicts spring\\'s fabrication, but the second part is a little bit different. Old Man Winter comes back and he tries to extend winter by destroying the elves\\' work. So from this point, we assist to a battle between the elves and Old Man Winter.<br /><br />The music heard here is deliciously wonderful. The melodic parts stick in the head like an ink spot on a paper sheet. The second part melodies are thrilling and they perfectly fit with the action. This is just fantastico, Giorgio! The animation sequences are also a delight. The colors are well mixed and every little detail is shown into a massive, epic environment. The concept itself is brilliant. The elves are attracting characters, so is Old Man Winter, who effectively portrays the cold and ruthless feelings of the white season.<br /><br />There\\'s also a strong message included here. The battle seems lost for the elves at the end, until a single late arriving elf jump into the action and it leads to the elves\\' victory over winter. So the point is: only one single person can make the difference.<br /><br />In conclusion, \"To Spring\" is a remarkable lost classic from short cartoon era. What is even more remarkable is that this cartoon\\'s director made his debut here. And who is \"To Spring\"\\'s director? It\\'s a certain William Hanna...']\n",
            "\n",
            "labels:  [0 1 1]\n"
          ]
        }
      ],
      "source": [
        "BUFFER_SIZE = 10000\n",
        "BATCH_SIZE = 64\n",
        "\n",
        "train_dataset = train_dataset.shuffle(BUFFER_SIZE).batch(BATCH_SIZE).prefetch(tf.data.AUTOTUNE)\n",
        "test_dataset = test_dataset.batch(BATCH_SIZE).prefetch(tf.data.AUTOTUNE)\n",
        "\n",
        "for example, label in train_dataset.take(1):\n",
        "  print('texts: ', example.numpy()[:3])\n",
        "  print()\n",
        "  print('labels: ', label.numpy()[:3])\n"
      ]
    },
    {
      "cell_type": "code",
      "execution_count": 6,
      "metadata": {
        "id": "HAAGEFQJEPAS"
      },
      "outputs": [],
      "source": [
        "VOCAB_SIZE = 1000\n",
        "encoder = tf.keras.layers.TextVectorization(\n",
        "    max_tokens=VOCAB_SIZE)\n",
        "encoder.adapt(train_dataset.map(lambda text, label: text))"
      ]
    },
    {
      "cell_type": "code",
      "execution_count": 7,
      "metadata": {
        "id": "J2tiwJwsEPAS",
        "outputId": "ebcd181a-6fa4-4f1b-d472-1f1256c50df8",
        "colab": {
          "base_uri": "https://localhost:8080/"
        }
      },
      "outputs": [
        {
          "output_type": "execute_result",
          "data": {
            "text/plain": [
              "array(['', '[UNK]', 'the', 'and', 'a', 'of', 'to', 'is', 'in', 'it', 'i',\n",
              "       'this', 'that', 'br', 'was', 'as', 'for', 'with', 'movie', 'but'],\n",
              "      dtype='<U14')"
            ]
          },
          "metadata": {},
          "execution_count": 7
        }
      ],
      "source": [
        "vocab=np.array(encoder.get_vocabulary())\n",
        "vocab[:20]"
      ]
    },
    {
      "cell_type": "code",
      "execution_count": 8,
      "metadata": {
        "id": "4WiLo5tvEPAS",
        "outputId": "3dd5488f-71bd-4479-8456-76452f4af392",
        "colab": {
          "base_uri": "https://localhost:8080/"
        }
      },
      "outputs": [
        {
          "output_type": "execute_result",
          "data": {
            "text/plain": [
              "array([[ 11,   7,  29, ...,   0,   0,   0],\n",
              "       [ 10,  67, 284, ...,   0,   0,   0],\n",
              "       [  1,   7,   4, ...,   0,   0,   0]])"
            ]
          },
          "metadata": {},
          "execution_count": 8
        }
      ],
      "source": [
        "encoded_example=encoder(example)[:3].numpy()\n",
        "encoded_example"
      ]
    },
    {
      "cell_type": "code",
      "execution_count": 9,
      "metadata": {
        "id": "7MPVrdLkEPAT",
        "outputId": "8f7429f6-cff3-47f0-ad81-29eadfaa2dc7",
        "colab": {
          "base_uri": "https://localhost:8080/"
        }
      },
      "outputs": [
        {
          "output_type": "stream",
          "name": "stdout",
          "text": [
            "Original:  b\"This is one of the worst movies I have ever seen. However, the little slave girl, Alice and Jared Harris imitating Christopher Walken is what makes this movie entertaining. Alice's smoking, drinking and uncanny way of showing up when her name is called is strange and interesting. I have to applaud Jared for his Christopher Walken imitation, and Christopher Walken for allowing this to be in the movie.\"\n",
            "Round-trip:  this is one of the worst movies i have ever seen however the little [UNK] girl [UNK] and [UNK] [UNK] [UNK] [UNK] [UNK] is what makes this movie entertaining [UNK] [UNK] [UNK] and [UNK] way of showing up when her name is called is strange and interesting i have to [UNK] [UNK] for his [UNK] [UNK] [UNK] and [UNK] [UNK] for [UNK] this to be in the movie                                                                                                                                                                                                                                                                                                                                                                                                                                                                                                                                                                                                                                                                                                                                                                                                                                                                                                                                                  \n",
            "\n",
            "Original:  b'I had watched this film from Ralph Bakshi (Wizards, Hey Good Lookin\\'), one night ago on www.afrovideo.org, and I didn\\'t see anything racial (I am not stupid), I do admit the character designs are a bit crude and unaccpectable today, but I think it\\'s a satire and a very,very urban retelling of the old Uncle Remus stories that the Black American culture, created right down to the main characters and the blatant nod to \"The Tar Baby\" and \"The Briar Patch.\" These aren\\'t bigoted stories, mind you, but cultural icons created by Black Americans, and me being a white woman read and love those stories. And I also found it an interesting time-capsule view on the black culture in Harlem, New York in the 70\\'s.<br /><br />Well to get to the nitty-gritty of this film: This film is a live-action/animated film, which begins in live-action with a fellow named Sampson (Barry White) and the Preacherman (Charles Gordone) rush to help their friend, Randy (Philip Michael Thomas) escape from prison, but are stopped by a roadblock and wind up in a shootout with the police. While waiting for them, Randy unwillingly listens to fellow escapee Pappy (Scatman Crothers), as he begins to tell Randy the animated story of Brother Rabbit, a young newcomer to the big city who quickly rises from obscurity to rule over all of Harlem; you know, to me Rabbit,Bear and Fox are animal versions of Randy,Sampson and the Preacherman. An abstract juxtaposition of stylized animation and live action footage, the film is a graphic and condemnatory satire of stereotypes prevalent in the 70s \\xc2\\x97 racial, ethnic, and otherwise.<br /><br />So anyway, it is another GOOD Bakshi movie; and should we sweep films like this under the rug? pretend they never exist? hmmm...I think that would be a shame; I think we should watch these films entacted, and learn about what goes on back then, just how far we come since then.'\n",
            "Round-trip:  i had watched this film from [UNK] [UNK] [UNK] [UNK] good [UNK] one night ago on [UNK] and i didnt see anything [UNK] i am not stupid i do admit the character [UNK] are a bit [UNK] and [UNK] today but i think its a [UNK] and a [UNK] [UNK] [UNK] of the old [UNK] [UNK] stories that the black american [UNK] [UNK] right down to the main characters and the [UNK] [UNK] to the [UNK] baby and the [UNK] [UNK] these arent [UNK] stories mind you but [UNK] [UNK] [UNK] by black [UNK] and me being a white woman read and love those stories and i also found it an interesting [UNK] view on the black [UNK] in [UNK] new york in the [UNK] br well to get to the [UNK] of this film this film is a [UNK] film which begins in [UNK] with a [UNK] named [UNK] [UNK] white and the [UNK] [UNK] [UNK] [UNK] to help their friend [UNK] [UNK] michael [UNK] [UNK] from [UNK] but are [UNK] by a [UNK] and [UNK] up in a [UNK] with the police while [UNK] for them [UNK] [UNK] [UNK] to [UNK] [UNK] [UNK] [UNK] [UNK] as he begins to tell [UNK] the [UNK] story of brother [UNK] a young [UNK] to the big city who quickly [UNK] from [UNK] to [UNK] over all of [UNK] you know to me [UNK] and [UNK] are [UNK] [UNK] of [UNK] and the [UNK] an [UNK] [UNK] of [UNK] animation and live action footage the film is a [UNK] and [UNK] [UNK] of [UNK] [UNK] in the 70s [UNK] [UNK] [UNK] and [UNK] br so anyway it is another good [UNK] movie and should we [UNK] films like this under the [UNK] [UNK] they never [UNK] [UNK] think that would be a shame i think we should watch these films [UNK] and learn about what goes on back then just how far we come since then                                                                                                                                                                                                                                                                                                                                                                                                                                                                                                                                                                                                                                                                                  \n",
            "\n",
            "Original:  b'Metro-Goldwyn-Mayer is a very lost player in the short cartoon market. This market is essentially dominated by the Looney Tunes and the Merry Melodies shorts, coming from Warner Bros. But MGM is also able of releasing hidden gems, like \"To Spring\", an astonishing story about the most beautiful season of the year.<br /><br />In the environment depicted here, spring isn\\'t caused by natural cycles, but is fabricated. And by who? By little male elves who live below ground. Each spring, when the snow begins to melt, they start working. They begin by felling rainbow rock columns, then reducing them to rubble and using this rubble to turn it into color fluids, which will be moved up to the ground and bearing grass, flowers... In other words, spring! The first half of the cartoon depicts spring\\'s fabrication, but the second part is a little bit different. Old Man Winter comes back and he tries to extend winter by destroying the elves\\' work. So from this point, we assist to a battle between the elves and Old Man Winter.<br /><br />The music heard here is deliciously wonderful. The melodic parts stick in the head like an ink spot on a paper sheet. The second part melodies are thrilling and they perfectly fit with the action. This is just fantastico, Giorgio! The animation sequences are also a delight. The colors are well mixed and every little detail is shown into a massive, epic environment. The concept itself is brilliant. The elves are attracting characters, so is Old Man Winter, who effectively portrays the cold and ruthless feelings of the white season.<br /><br />There\\'s also a strong message included here. The battle seems lost for the elves at the end, until a single late arriving elf jump into the action and it leads to the elves\\' victory over winter. So the point is: only one single person can make the difference.<br /><br />In conclusion, \"To Spring\" is a remarkable lost classic from short cartoon era. What is even more remarkable is that this cartoon\\'s director made his debut here. And who is \"To Spring\"\\'s director? It\\'s a certain William Hanna...'\n",
            "Round-trip:  [UNK] is a very lost [UNK] in the short [UNK] [UNK] this [UNK] is [UNK] [UNK] by the [UNK] [UNK] and the [UNK] [UNK] [UNK] coming from [UNK] [UNK] but [UNK] is also able of [UNK] [UNK] [UNK] like to [UNK] an [UNK] story about the most beautiful season of the [UNK] br in the [UNK] [UNK] here [UNK] isnt [UNK] by [UNK] [UNK] but is [UNK] and by who by little male [UNK] who live [UNK] [UNK] each [UNK] when the [UNK] begins to [UNK] they start working they begin by [UNK] [UNK] rock [UNK] then [UNK] them to [UNK] and using this [UNK] to turn it into [UNK] [UNK] which will be [UNK] up to the [UNK] and [UNK] [UNK] [UNK] in other words [UNK] the first half of the [UNK] [UNK] [UNK] [UNK] but the second part is a little bit different old man [UNK] comes back and he tries to [UNK] [UNK] by [UNK] the [UNK] work so from this point we [UNK] to a battle between the [UNK] and old man [UNK] br the music heard here is [UNK] wonderful the [UNK] parts [UNK] in the head like an [UNK] [UNK] on a [UNK] [UNK] the second part [UNK] are [UNK] and they perfectly [UNK] with the action this is just [UNK] [UNK] the animation sequences are also a [UNK] the [UNK] are well [UNK] and every little [UNK] is shown into a [UNK] [UNK] [UNK] the [UNK] itself is brilliant the [UNK] are [UNK] characters so is old man [UNK] who [UNK] [UNK] the [UNK] and [UNK] [UNK] of the white [UNK] br theres also a strong message [UNK] here the battle seems lost for the [UNK] at the end until a single late [UNK] [UNK] [UNK] into the action and it leads to the [UNK] [UNK] over [UNK] so the point is only one single person can make the [UNK] br in [UNK] to [UNK] is a [UNK] lost classic from short [UNK] [UNK] what is even more [UNK] is that this [UNK] director made his [UNK] here and who is to [UNK] director its a certain [UNK] [UNK]                                                                                                                                                                                                                                                                                                                                                                                                                                                                                                                                                                                                                                                  \n",
            "\n"
          ]
        }
      ],
      "source": [
        "for n in range(3):\n",
        "  print(\"Original: \", example[n].numpy())\n",
        "  print(\"Round-trip: \", \" \".join(vocab[encoded_example[n]]))\n",
        "  print()"
      ]
    },
    {
      "cell_type": "code",
      "execution_count": 10,
      "metadata": {
        "id": "00rbSXDNEPAT"
      },
      "outputs": [],
      "source": [
        "model = tf.keras.Sequential([\n",
        "    encoder,\n",
        "    tf.keras.layers.Embedding(\n",
        "        input_dim=len(encoder.get_vocabulary()),\n",
        "        output_dim=64,\n",
        "        # Use masking to handle the variable sequence lengths\n",
        "        mask_zero=True),\n",
        "    tf.keras.layers.Bidirectional(tf.keras.layers.LSTM(64)),\n",
        "    tf.keras.layers.Dense(64, activation='relu'),\n",
        "    tf.keras.layers.Dense(1)\n",
        "])"
      ]
    },
    {
      "cell_type": "code",
      "execution_count": 11,
      "metadata": {
        "id": "xUKizUy6EPAT",
        "outputId": "70cfcbed-920b-4f3d-a258-a850d40f4962",
        "colab": {
          "base_uri": "https://localhost:8080/"
        }
      },
      "outputs": [
        {
          "output_type": "stream",
          "name": "stdout",
          "text": [
            "[False, True, True, True, True]\n"
          ]
        }
      ],
      "source": [
        "print([layer.supports_masking for layer in model.layers])"
      ]
    },
    {
      "cell_type": "code",
      "execution_count": 12,
      "metadata": {
        "id": "RjBzQhH4EPAT",
        "outputId": "10910235-0532-4ce5-d039-3d535db0f71b",
        "colab": {
          "base_uri": "https://localhost:8080/"
        }
      },
      "outputs": [
        {
          "output_type": "stream",
          "name": "stdout",
          "text": [
            "1/1 [==============================] - 8s 8s/step\n",
            "[-0.00615536]\n"
          ]
        }
      ],
      "source": [
        "# predict on a sample text without padding.\n",
        "\n",
        "sample_text = ('The movie was cool. The animation and the graphics '\n",
        "               'were out of this world. I would recommend this movie.')\n",
        "predictions = model.predict(np.array([sample_text]))\n",
        "print(predictions[0])"
      ]
    },
    {
      "cell_type": "code",
      "execution_count": 13,
      "metadata": {
        "id": "J8wyq65IEPAU",
        "outputId": "ebca5dd5-2579-4048-c895-24e48083108f",
        "colab": {
          "base_uri": "https://localhost:8080/"
        }
      },
      "outputs": [
        {
          "output_type": "stream",
          "name": "stdout",
          "text": [
            "1/1 [==============================] - 0s 116ms/step\n",
            "[-0.00615536]\n"
          ]
        }
      ],
      "source": [
        "# predict on a sample text with padding\n",
        "\n",
        "padding = \"the \" * 2000\n",
        "predictions = model.predict(np.array([sample_text, padding]))\n",
        "print(predictions[0])"
      ]
    },
    {
      "cell_type": "code",
      "execution_count": 14,
      "metadata": {
        "id": "1yvht5-TEPAU"
      },
      "outputs": [],
      "source": [
        "model.compile(loss=tf.keras.losses.BinaryCrossentropy(from_logits=True),\n",
        "              optimizer=tf.keras.optimizers.Adam(1e-4),\n",
        "              metrics=['accuracy'])"
      ]
    },
    {
      "cell_type": "code",
      "execution_count": 15,
      "metadata": {
        "id": "u4Sq-pSDEPAU",
        "outputId": "0118bc8b-fd82-41e3-e999-bf185625b558",
        "colab": {
          "base_uri": "https://localhost:8080/"
        }
      },
      "outputs": [
        {
          "output_type": "stream",
          "name": "stdout",
          "text": [
            "Epoch 1/10\n",
            "391/391 [==============================] - 47s 97ms/step - loss: 0.6267 - accuracy: 0.5857 - val_loss: 0.4627 - val_accuracy: 0.8010\n",
            "Epoch 2/10\n",
            "391/391 [==============================] - 26s 67ms/step - loss: 0.3894 - accuracy: 0.8206 - val_loss: 0.3869 - val_accuracy: 0.8474\n",
            "Epoch 3/10\n",
            "391/391 [==============================] - 24s 62ms/step - loss: 0.3359 - accuracy: 0.8513 - val_loss: 0.3742 - val_accuracy: 0.8089\n",
            "Epoch 4/10\n",
            "391/391 [==============================] - 24s 60ms/step - loss: 0.3215 - accuracy: 0.8607 - val_loss: 0.3291 - val_accuracy: 0.8500\n",
            "Epoch 5/10\n",
            "391/391 [==============================] - 24s 61ms/step - loss: 0.3113 - accuracy: 0.8638 - val_loss: 0.3332 - val_accuracy: 0.8510\n",
            "Epoch 6/10\n",
            "391/391 [==============================] - 25s 64ms/step - loss: 0.3058 - accuracy: 0.8689 - val_loss: 0.3285 - val_accuracy: 0.8443\n",
            "Epoch 7/10\n",
            "391/391 [==============================] - 26s 65ms/step - loss: 0.3048 - accuracy: 0.8682 - val_loss: 0.3227 - val_accuracy: 0.8562\n",
            "Epoch 8/10\n",
            "391/391 [==============================] - 24s 62ms/step - loss: 0.3000 - accuracy: 0.8720 - val_loss: 0.3269 - val_accuracy: 0.8609\n",
            "Epoch 9/10\n",
            "391/391 [==============================] - 27s 68ms/step - loss: 0.2975 - accuracy: 0.8736 - val_loss: 0.3223 - val_accuracy: 0.8521\n",
            "Epoch 10/10\n",
            "391/391 [==============================] - 25s 63ms/step - loss: 0.2964 - accuracy: 0.8725 - val_loss: 0.3243 - val_accuracy: 0.8578\n"
          ]
        }
      ],
      "source": [
        "history = model.fit(train_dataset, epochs=10, validation_data=test_dataset, validation_steps=30)"
      ]
    },
    {
      "cell_type": "code",
      "source": [
        "test_loss, test_acc = model.evaluate(test_dataset)\n",
        "\n",
        "print('Test Loss:', test_loss)\n",
        "print('Test Accuracy:', test_acc)"
      ],
      "metadata": {
        "id": "X-rgeARrGEzi",
        "outputId": "ba5d81ee-0b3b-4abb-bc16-9f7a759e0733",
        "colab": {
          "base_uri": "https://localhost:8080/"
        }
      },
      "execution_count": 16,
      "outputs": [
        {
          "output_type": "stream",
          "name": "stdout",
          "text": [
            "391/391 [==============================] - 12s 30ms/step - loss: 0.3186 - accuracy: 0.8621\n",
            "Test Loss: 0.31862351298332214\n",
            "Test Accuracy: 0.8621199727058411\n"
          ]
        }
      ]
    },
    {
      "cell_type": "code",
      "source": [
        "# predict on a sample text without padding.\n",
        "\n",
        "sample_text = ('The movie was not good. The animation and the graphics were terrible. I would not recommend this movie.')\n",
        "predictions = model.predict(np.array([sample_text]))\n",
        "print(predictions)"
      ],
      "metadata": {
        "id": "iI2YOU3ZGP_8",
        "outputId": "55cd5548-ed7c-429a-e66e-c01d29b869ab",
        "colab": {
          "base_uri": "https://localhost:8080/"
        }
      },
      "execution_count": 17,
      "outputs": [
        {
          "output_type": "stream",
          "name": "stdout",
          "text": [
            "1/1 [==============================] - 3s 3s/step\n",
            "[[-1.4419059]]\n"
          ]
        }
      ]
    },
    {
      "cell_type": "code",
      "source": [
        "plt.figure(figsize=(16, 6))\n",
        "plt.subplot(1, 2, 1)\n",
        "plot_graphs(history, 'accuracy')\n",
        "plt.subplot(1, 2, 2)\n",
        "plot_graphs(history, 'loss')"
      ],
      "metadata": {
        "id": "v9VqdLzWGYpm",
        "outputId": "2843adef-31a6-4203-9732-c46e64bd7ede",
        "colab": {
          "base_uri": "https://localhost:8080/",
          "height": 512
        }
      },
      "execution_count": 18,
      "outputs": [
        {
          "output_type": "display_data",
          "data": {
            "text/plain": [
              "<Figure size 1600x600 with 2 Axes>"
            ],
            "image/png": "[encoded data removed]"
          },
          "metadata": {}
        }
      ]
    }
  ],
  "metadata": {
    "kernelspec": {
      "display_name": "Python 3",
      "name": "python3"
    },
    "language_info": {
      "codemirror_mode": {
        "name": "ipython",
        "version": 3
      },
      "file_extension": ".py",
      "mimetype": "text/x-python",
      "name": "python",
      "nbconvert_exporter": "python",
      "pygments_lexer": "ipython3",
      "version": "3.10.12"
    },
    "colab": {
      "provenance": [],
      "gpuType": "T4",
      "include_colab_link": true
    },
    "accelerator": "GPU"
  },
  "nbformat": 4,
  "nbformat_minor": 0
}
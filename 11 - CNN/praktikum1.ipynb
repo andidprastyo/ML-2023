{
 "cells": [
  {
   "cell_type": "markdown",
   "metadata": {},
   "source": [
    "### Step 1 - Import Libraries"
   ]
  },
  {
   "cell_type": "code",
   "execution_count": 28,
   "metadata": {},
   "outputs": [],
   "source": [
    "import numpy as np\n",
    "import tensorflow as tf\n",
    "from keras.preprocessing import image\n",
    "from keras.preprocessing.image import ImageDataGenerator"
   ]
  },
  {
   "cell_type": "markdown",
   "metadata": {},
   "source": [
    "### Step 2 - Preprocessing"
   ]
  },
  {
   "cell_type": "markdown",
   "metadata": {},
   "source": [
    "#### Step 2.1 - Data Training"
   ]
  },
  {
   "cell_type": "code",
   "execution_count": 15,
   "metadata": {},
   "outputs": [
    {
     "name": "stdout",
     "output_type": "stream",
     "text": [
      "Found 8000 images belonging to 2 classes.\n"
     ]
    }
   ],
   "source": [
    "train_datagen = ImageDataGenerator(rescale=1./255, shear_range=0.2, zoom_range=0.2, horizontal_flip=True)\n",
    "training_set = train_datagen.flow_from_directory('./Dataset/training_set/', target_size=(64, 64), batch_size=32, class_mode='binary')"
   ]
  },
  {
   "cell_type": "markdown",
   "metadata": {},
   "source": [
    "#### Step 2.2 - Data Testing"
   ]
  },
  {
   "cell_type": "code",
   "execution_count": 16,
   "metadata": {},
   "outputs": [
    {
     "name": "stdout",
     "output_type": "stream",
     "text": [
      "Found 2000 images belonging to 2 classes.\n"
     ]
    }
   ],
   "source": [
    "test_datagen = ImageDataGenerator(rescale=1./255, shear_range=0.2, zoom_range=0.2, horizontal_flip=True)\n",
    "test_set = train_datagen.flow_from_directory('./Dataset/test_set/', target_size=(64, 64), batch_size=32, class_mode='binary')"
   ]
  },
  {
   "cell_type": "markdown",
   "metadata": {},
   "source": [
    "### Step 3 - CNN Modelling"
   ]
  },
  {
   "cell_type": "markdown",
   "metadata": {},
   "source": [
    "#### Step 3.1 - Initiate CNN Model"
   ]
  },
  {
   "cell_type": "code",
   "execution_count": 17,
   "metadata": {},
   "outputs": [],
   "source": [
    "cnn = tf.keras.models.Sequential()"
   ]
  },
  {
   "cell_type": "markdown",
   "metadata": {},
   "source": [
    "#### Step 3.2 - Generate 1st Convolution Layer"
   ]
  },
  {
   "cell_type": "code",
   "execution_count": 18,
   "metadata": {},
   "outputs": [],
   "source": [
    "cnn.add(tf.keras.layers.Conv2D(filters=32, kernel_size=3, activation='relu', input_shape=[64, 64, 3]))"
   ]
  },
  {
   "cell_type": "markdown",
   "metadata": {},
   "source": [
    "#### Step 3.3 - Generate 1st Pooling Layer"
   ]
  },
  {
   "cell_type": "code",
   "execution_count": 19,
   "metadata": {},
   "outputs": [],
   "source": [
    "cnn.add(tf.keras.layers.MaxPool2D(pool_size=2, strides=2))"
   ]
  },
  {
   "cell_type": "markdown",
   "metadata": {},
   "source": [
    "#### Step 3.4 - Generate 2nd Convolution Layer and Pooling Layer"
   ]
  },
  {
   "cell_type": "code",
   "execution_count": 20,
   "metadata": {},
   "outputs": [],
   "source": [
    "cnn.add(tf.keras.layers.Conv2D(filters=32, kernel_size=3, activation='relu'))\n",
    "cnn.add(tf.keras.layers.MaxPool2D(pool_size=2, strides=2))"
   ]
  },
  {
   "cell_type": "markdown",
   "metadata": {},
   "source": [
    "#### Step 3.5 - Generate Flattening Layer"
   ]
  },
  {
   "cell_type": "code",
   "execution_count": 21,
   "metadata": {},
   "outputs": [],
   "source": [
    "cnn.add(tf.keras.layers.Flatten())"
   ]
  },
  {
   "cell_type": "markdown",
   "metadata": {},
   "source": [
    "#### Step 3.6 - Generate 1st Fully Connected Layer (input) "
   ]
  },
  {
   "cell_type": "code",
   "execution_count": 22,
   "metadata": {},
   "outputs": [],
   "source": [
    "cnn.add(tf.keras.layers.Dense(units=128, activation='relu'))"
   ]
  },
  {
   "cell_type": "markdown",
   "metadata": {},
   "source": [
    "#### Step 3.7 - Generate 2nd Fully Connected Layer (output) "
   ]
  },
  {
   "cell_type": "code",
   "execution_count": 23,
   "metadata": {},
   "outputs": [],
   "source": [
    "cnn.add(tf.keras.layers.Dense(units=1, activation='sigmoid'))"
   ]
  },
  {
   "cell_type": "markdown",
   "metadata": {},
   "source": [
    "#### Step 3.8 - Compile CNN Model"
   ]
  },
  {
   "cell_type": "code",
   "execution_count": 24,
   "metadata": {},
   "outputs": [],
   "source": [
    "cnn.compile(optimizer='adam', loss='binary_crossentropy', metrics=['accuracy'])"
   ]
  },
  {
   "cell_type": "markdown",
   "metadata": {},
   "source": [
    "### Step 4 - Fitting CNN Model"
   ]
  },
  {
   "cell_type": "code",
   "execution_count": 25,
   "metadata": {},
   "outputs": [
    {
     "name": "stdout",
     "output_type": "stream",
     "text": [
      "Epoch 1/25\n"
     ]
    },
    {
     "name": "stdout",
     "output_type": "stream",
     "text": [
      "  2/250 [..............................] - ETA: 19s - loss: 0.6937 - accuracy: 0.5312 "
     ]
    },
    {
     "name": "stderr",
     "output_type": "stream",
     "text": [
      "2023-11-08 11:12:50.406956: W tensorflow/tsl/framework/cpu_allocator_impl.cc:83] Allocation of 28096128 exceeds 10% of free system memory.\n",
      "2023-11-08 11:12:50.407288: W tensorflow/tsl/framework/cpu_allocator_impl.cc:83] Allocation of 28096128 exceeds 10% of free system memory.\n",
      "2023-11-08 11:12:50.494571: W tensorflow/tsl/framework/cpu_allocator_impl.cc:83] Allocation of 28096128 exceeds 10% of free system memory.\n",
      "2023-11-08 11:12:50.494771: W tensorflow/tsl/framework/cpu_allocator_impl.cc:83] Allocation of 28096128 exceeds 10% of free system memory.\n"
     ]
    },
    {
     "name": "stdout",
     "output_type": "stream",
     "text": [
      "  4/250 [..............................] - ETA: 28s - loss: 0.7261 - accuracy: 0.5078"
     ]
    },
    {
     "name": "stderr",
     "output_type": "stream",
     "text": [
      "2023-11-08 11:12:50.622907: W tensorflow/tsl/framework/cpu_allocator_impl.cc:83] Allocation of 28096128 exceeds 10% of free system memory.\n"
     ]
    },
    {
     "name": "stdout",
     "output_type": "stream",
     "text": [
      "250/250 [==============================] - 34s 131ms/step - loss: 0.6614 - accuracy: 0.6026 - val_loss: 0.6217 - val_accuracy: 0.6700\n",
      "Epoch 2/25\n",
      "250/250 [==============================] - 31s 123ms/step - loss: 0.5941 - accuracy: 0.6802 - val_loss: 0.5669 - val_accuracy: 0.7195\n",
      "Epoch 3/25\n",
      "250/250 [==============================] - 31s 123ms/step - loss: 0.5453 - accuracy: 0.7203 - val_loss: 0.5380 - val_accuracy: 0.7380\n",
      "Epoch 4/25\n",
      "250/250 [==============================] - 31s 124ms/step - loss: 0.5263 - accuracy: 0.7383 - val_loss: 0.5214 - val_accuracy: 0.7470\n",
      "Epoch 5/25\n",
      "250/250 [==============================] - 31s 124ms/step - loss: 0.5040 - accuracy: 0.7519 - val_loss: 0.5176 - val_accuracy: 0.7455\n",
      "Epoch 6/25\n",
      "250/250 [==============================] - 31s 124ms/step - loss: 0.4799 - accuracy: 0.7685 - val_loss: 0.4839 - val_accuracy: 0.7645\n",
      "Epoch 7/25\n",
      "250/250 [==============================] - 31s 125ms/step - loss: 0.4674 - accuracy: 0.7755 - val_loss: 0.4878 - val_accuracy: 0.7705\n",
      "Epoch 8/25\n",
      "250/250 [==============================] - 31s 124ms/step - loss: 0.4485 - accuracy: 0.7947 - val_loss: 0.4987 - val_accuracy: 0.7645\n",
      "Epoch 9/25\n",
      "250/250 [==============================] - 31s 125ms/step - loss: 0.4235 - accuracy: 0.8019 - val_loss: 0.4610 - val_accuracy: 0.7785\n",
      "Epoch 10/25\n",
      "250/250 [==============================] - 31s 126ms/step - loss: 0.4148 - accuracy: 0.8064 - val_loss: 0.4575 - val_accuracy: 0.7980\n",
      "Epoch 11/25\n",
      "250/250 [==============================] - 32s 129ms/step - loss: 0.4040 - accuracy: 0.8112 - val_loss: 0.4541 - val_accuracy: 0.7895\n",
      "Epoch 12/25\n",
      "250/250 [==============================] - 32s 127ms/step - loss: 0.3813 - accuracy: 0.8183 - val_loss: 0.5110 - val_accuracy: 0.7530\n",
      "Epoch 13/25\n",
      "250/250 [==============================] - 32s 127ms/step - loss: 0.3719 - accuracy: 0.8315 - val_loss: 0.4700 - val_accuracy: 0.7905\n",
      "Epoch 14/25\n",
      "250/250 [==============================] - 34s 136ms/step - loss: 0.3518 - accuracy: 0.8469 - val_loss: 0.4925 - val_accuracy: 0.7870\n",
      "Epoch 15/25\n",
      "250/250 [==============================] - 32s 127ms/step - loss: 0.3412 - accuracy: 0.8471 - val_loss: 0.4610 - val_accuracy: 0.8030\n",
      "Epoch 16/25\n",
      "250/250 [==============================] - 32s 126ms/step - loss: 0.3235 - accuracy: 0.8561 - val_loss: 0.4717 - val_accuracy: 0.7935\n",
      "Epoch 17/25\n",
      "250/250 [==============================] - 32s 126ms/step - loss: 0.3149 - accuracy: 0.8600 - val_loss: 0.4812 - val_accuracy: 0.7960\n",
      "Epoch 18/25\n",
      "250/250 [==============================] - 32s 126ms/step - loss: 0.3041 - accuracy: 0.8677 - val_loss: 0.4728 - val_accuracy: 0.8010\n",
      "Epoch 19/25\n",
      "250/250 [==============================] - 32s 129ms/step - loss: 0.2900 - accuracy: 0.8769 - val_loss: 0.4894 - val_accuracy: 0.7900\n",
      "Epoch 20/25\n",
      "250/250 [==============================] - 32s 128ms/step - loss: 0.2670 - accuracy: 0.8870 - val_loss: 0.5218 - val_accuracy: 0.8020\n",
      "Epoch 21/25\n",
      "250/250 [==============================] - 32s 127ms/step - loss: 0.2510 - accuracy: 0.8942 - val_loss: 0.5097 - val_accuracy: 0.7845\n",
      "Epoch 22/25\n",
      "250/250 [==============================] - 32s 128ms/step - loss: 0.2397 - accuracy: 0.9021 - val_loss: 0.5219 - val_accuracy: 0.7930\n",
      "Epoch 23/25\n",
      "250/250 [==============================] - 32s 126ms/step - loss: 0.2262 - accuracy: 0.9095 - val_loss: 0.4960 - val_accuracy: 0.8035\n",
      "Epoch 24/25\n",
      "250/250 [==============================] - 32s 127ms/step - loss: 0.2183 - accuracy: 0.9111 - val_loss: 0.5633 - val_accuracy: 0.7920\n",
      "Epoch 25/25\n",
      "250/250 [==============================] - 32s 127ms/step - loss: 0.2068 - accuracy: 0.9124 - val_loss: 0.5666 - val_accuracy: 0.7945\n"
     ]
    },
    {
     "data": {
      "text/plain": [
       "<keras.src.callbacks.History at 0x7f80f83e2aa0>"
      ]
     },
     "execution_count": 25,
     "metadata": {},
     "output_type": "execute_result"
    }
   ],
   "source": [
    "cnn.fit(x=training_set, validation_data=test_set, epochs=25)"
   ]
  },
  {
   "cell_type": "markdown",
   "metadata": {},
   "source": [
    "### Step 5 - Predicting CNN Model"
   ]
  },
  {
   "cell_type": "code",
   "execution_count": 33,
   "metadata": {},
   "outputs": [
    {
     "name": "stdout",
     "output_type": "stream",
     "text": [
      "1/1 [==============================] - 0s 21ms/step\n",
      "dog\n"
     ]
    }
   ],
   "source": [
    "test_image = image.load_img('./Dataset/single_prediction/cat_or_dog_1.jpg', target_size = (64, 64))\n",
    "test_image = image.img_to_array(test_image)\n",
    "test_image = np.expand_dims(test_image, axis = 0)\n",
    "result = cnn.predict(test_image)\n",
    "training_set.class_indices\n",
    "if result[0][0] == 1:\n",
    "  prediction = 'dog'\n",
    "else:\n",
    "  prediction = 'cat'\n",
    "  \n",
    "print(prediction)"
   ]
  }
 ],
 "metadata": {
  "kernelspec": {
   "display_name": "Python 3",
   "language": "python",
   "name": "python3"
  },
  "language_info": {
   "codemirror_mode": {
    "name": "ipython",
    "version": 3
   },
   "file_extension": ".py",
   "mimetype": "text/x-python",
   "name": "python",
   "nbconvert_exporter": "python",
   "pygments_lexer": "ipython3",
   "version": "3.10.12"
  }
 },
 "nbformat": 4,
 "nbformat_minor": 2
}

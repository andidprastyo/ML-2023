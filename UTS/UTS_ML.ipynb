{
 "cells": [
  {
   "cell_type": "markdown",
   "metadata": {},
   "source": [
    "# UTS - Pembelajaran Mesin\n",
    "\n",
    "Nama : Andi Dwi P. <br>\n",
    "NIM : 2141720046 <br>\n",
    "Absen : 06 <br>\n",
    "Kelas : TI-3F <br>"
   ]
  },
  {
   "cell_type": "markdown",
   "metadata": {},
   "source": [
    "### Import Libraries"
   ]
  },
  {
   "cell_type": "code",
   "execution_count": 1,
   "metadata": {},
   "outputs": [],
   "source": [
    "# For Data Manipulation\n",
    "import numpy as np\n",
    "import os\n",
    "import random\n",
    "\n",
    "# For Visualization\n",
    "import matplotlib.pyplot as plt\n",
    "\n",
    "# For Preprocessing\n",
    "from sklearn.decomposition import PCA\n",
    "\n",
    "# For Modelling\n",
    "from sklearn.cluster import KMeans\n"
   ]
  },
  {
   "cell_type": "markdown",
   "metadata": {},
   "source": [
    "### Load Images from Directory"
   ]
  },
  {
   "cell_type": "code",
   "execution_count": null,
   "metadata": {},
   "outputs": [],
   "source": [
    "img_dir = "
   ]
  }
 ],
 "metadata": {
  "kernelspec": {
   "display_name": "Python 3",
   "language": "python",
   "name": "python3"
  },
  "language_info": {
   "codemirror_mode": {
    "name": "ipython",
    "version": 3
   },
   "file_extension": ".py",
   "mimetype": "text/x-python",
   "name": "python",
   "nbconvert_exporter": "python",
   "pygments_lexer": "ipython3",
   "version": "3.10.12"
  }
 },
 "nbformat": 4,
 "nbformat_minor": 2
}
